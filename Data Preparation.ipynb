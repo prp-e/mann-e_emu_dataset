{
 "cells": [
  {
   "cell_type": "code",
   "execution_count": 1,
   "id": "f1f2fa13",
   "metadata": {},
   "outputs": [],
   "source": [
    "import os \n",
    "import json \n",
    "import pandas as pd"
   ]
  },
  {
   "cell_type": "code",
   "execution_count": 12,
   "id": "10ead3d3",
   "metadata": {},
   "outputs": [],
   "source": [
    "json_data = open('dataset.json')"
   ]
  },
  {
   "cell_type": "code",
   "execution_count": 13,
   "id": "fc902451",
   "metadata": {},
   "outputs": [],
   "source": [
    "json_data = json_data.read()"
   ]
  },
  {
   "cell_type": "code",
   "execution_count": 14,
   "id": "9071e3fd",
   "metadata": {},
   "outputs": [],
   "source": [
    "json_data = json.loads(json_data)"
   ]
  },
  {
   "cell_type": "code",
   "execution_count": 15,
   "id": "805a70fa",
   "metadata": {},
   "outputs": [
    {
     "data": {
      "text/plain": [
       "list"
      ]
     },
     "execution_count": 15,
     "metadata": {},
     "output_type": "execute_result"
    }
   ],
   "source": [
    "type(json_data)"
   ]
  },
  {
   "cell_type": "code",
   "execution_count": 16,
   "id": "96410efd",
   "metadata": {},
   "outputs": [
    {
     "data": {
      "text/plain": [
       "{'id': 101,\n",
       " 'name': 'manne6-0100',\n",
       " 'prompt': 'a photo of a handsome young man wearing an orange shirt, highly detailed, pinterest, protrait photography by Richard Avedon',\n",
       " 'created_at': '2023-11-16T11:39:14.635Z',\n",
       " 'updated_at': '2023-11-26T09:22:35.919Z'}"
      ]
     },
     "execution_count": 16,
     "metadata": {},
     "output_type": "execute_result"
    }
   ],
   "source": [
    "json_data[100]"
   ]
  },
  {
   "cell_type": "markdown",
   "id": "06ca0798",
   "metadata": {},
   "source": [
    "## Creating the dataframe"
   ]
  },
  {
   "cell_type": "code",
   "execution_count": 17,
   "id": "65006c50",
   "metadata": {},
   "outputs": [],
   "source": [
    "df = pd.DataFrame(json_data)"
   ]
  },
  {
   "cell_type": "code",
   "execution_count": 18,
   "id": "20d12170",
   "metadata": {},
   "outputs": [
    {
     "data": {
      "text/html": [
       "<div>\n",
       "<style scoped>\n",
       "    .dataframe tbody tr th:only-of-type {\n",
       "        vertical-align: middle;\n",
       "    }\n",
       "\n",
       "    .dataframe tbody tr th {\n",
       "        vertical-align: top;\n",
       "    }\n",
       "\n",
       "    .dataframe thead th {\n",
       "        text-align: right;\n",
       "    }\n",
       "</style>\n",
       "<table border=\"1\" class=\"dataframe\">\n",
       "  <thead>\n",
       "    <tr style=\"text-align: right;\">\n",
       "      <th></th>\n",
       "      <th>id</th>\n",
       "      <th>name</th>\n",
       "      <th>prompt</th>\n",
       "      <th>created_at</th>\n",
       "      <th>updated_at</th>\n",
       "    </tr>\n",
       "  </thead>\n",
       "  <tbody>\n",
       "    <tr>\n",
       "      <th>0</th>\n",
       "      <td>1</td>\n",
       "      <td>manne6-0000</td>\n",
       "      <td>a mountain seen from far away, a praire in fro...</td>\n",
       "      <td>2023-11-16T11:39:14.321Z</td>\n",
       "      <td>2023-11-17T13:34:11.686Z</td>\n",
       "    </tr>\n",
       "    <tr>\n",
       "      <th>1</th>\n",
       "      <td>2</td>\n",
       "      <td>manne6-0001</td>\n",
       "      <td>a jungle seen from a rural area, sunset, cloud...</td>\n",
       "      <td>2023-11-16T11:39:14.325Z</td>\n",
       "      <td>2023-11-17T13:46:48.516Z</td>\n",
       "    </tr>\n",
       "    <tr>\n",
       "      <th>2</th>\n",
       "      <td>3</td>\n",
       "      <td>manne6-0002</td>\n",
       "      <td>beautiful canadian village in autumn, daylight...</td>\n",
       "      <td>2023-11-16T11:39:14.328Z</td>\n",
       "      <td>2023-11-17T13:48:29.808Z</td>\n",
       "    </tr>\n",
       "    <tr>\n",
       "      <th>3</th>\n",
       "      <td>4</td>\n",
       "      <td>manne6-0003</td>\n",
       "      <td>a portrait of a young beautiful woman with lon...</td>\n",
       "      <td>2023-11-16T11:39:14.331Z</td>\n",
       "      <td>2023-11-17T13:51:18.417Z</td>\n",
       "    </tr>\n",
       "    <tr>\n",
       "      <th>4</th>\n",
       "      <td>5</td>\n",
       "      <td>manne6-0004</td>\n",
       "      <td>a portrait of a young woman in a beige sweater...</td>\n",
       "      <td>2023-11-16T11:39:14.334Z</td>\n",
       "      <td>2023-11-17T13:53:27.029Z</td>\n",
       "    </tr>\n",
       "  </tbody>\n",
       "</table>\n",
       "</div>"
      ],
      "text/plain": [
       "   id         name                                             prompt  \\\n",
       "0   1  manne6-0000  a mountain seen from far away, a praire in fro...   \n",
       "1   2  manne6-0001  a jungle seen from a rural area, sunset, cloud...   \n",
       "2   3  manne6-0002  beautiful canadian village in autumn, daylight...   \n",
       "3   4  manne6-0003  a portrait of a young beautiful woman with lon...   \n",
       "4   5  manne6-0004  a portrait of a young woman in a beige sweater...   \n",
       "\n",
       "                 created_at                updated_at  \n",
       "0  2023-11-16T11:39:14.321Z  2023-11-17T13:34:11.686Z  \n",
       "1  2023-11-16T11:39:14.325Z  2023-11-17T13:46:48.516Z  \n",
       "2  2023-11-16T11:39:14.328Z  2023-11-17T13:48:29.808Z  \n",
       "3  2023-11-16T11:39:14.331Z  2023-11-17T13:51:18.417Z  \n",
       "4  2023-11-16T11:39:14.334Z  2023-11-17T13:53:27.029Z  "
      ]
     },
     "execution_count": 18,
     "metadata": {},
     "output_type": "execute_result"
    }
   ],
   "source": [
    "df.head()"
   ]
  },
  {
   "cell_type": "markdown",
   "id": "f4f046e4",
   "metadata": {},
   "source": [
    "# Working on images"
   ]
  },
  {
   "cell_type": "code",
   "execution_count": null,
   "id": "aba74f52",
   "metadata": {},
   "outputs": [],
   "source": []
  }
 ],
 "metadata": {
  "kernelspec": {
   "display_name": "Python 3 (ipykernel)",
   "language": "python",
   "name": "python3"
  },
  "language_info": {
   "codemirror_mode": {
    "name": "ipython",
    "version": 3
   },
   "file_extension": ".py",
   "mimetype": "text/x-python",
   "name": "python",
   "nbconvert_exporter": "python",
   "pygments_lexer": "ipython3",
   "version": "3.11.1"
  }
 },
 "nbformat": 4,
 "nbformat_minor": 5
}
