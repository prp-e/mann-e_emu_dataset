{
 "cells": [
  {
   "cell_type": "code",
   "execution_count": 1,
   "id": "fa5be0ee",
   "metadata": {},
   "outputs": [],
   "source": [
    "import os \n",
    "import json \n",
    "import pandas as pd"
   ]
  },
  {
   "cell_type": "code",
   "execution_count": 12,
   "id": "839e3110",
   "metadata": {},
   "outputs": [],
   "source": [
    "json_data = open('dataset.json')"
   ]
  },
  {
   "cell_type": "code",
   "execution_count": 13,
   "id": "89605eed",
   "metadata": {},
   "outputs": [],
   "source": [
    "json_data = json_data.read()"
   ]
  },
  {
   "cell_type": "code",
   "execution_count": 14,
   "id": "6db0c83d",
   "metadata": {},
   "outputs": [],
   "source": [
    "json_data = json.loads(json_data)"
   ]
  },
  {
   "cell_type": "code",
   "execution_count": 15,
   "id": "27021b68",
   "metadata": {},
   "outputs": [
    {
     "data": {
      "text/plain": [
       "list"
      ]
     },
     "execution_count": 15,
     "metadata": {},
     "output_type": "execute_result"
    }
   ],
   "source": [
    "type(json_data)"
   ]
  },
  {
   "cell_type": "code",
   "execution_count": null,
   "id": "12b15375",
   "metadata": {},
   "outputs": [],
   "source": []
  }
 ],
 "metadata": {
  "kernelspec": {
   "display_name": "Python 3 (ipykernel)",
   "language": "python",
   "name": "python3"
  },
  "language_info": {
   "codemirror_mode": {
    "name": "ipython",
    "version": 3
   },
   "file_extension": ".py",
   "mimetype": "text/x-python",
   "name": "python",
   "nbconvert_exporter": "python",
   "pygments_lexer": "ipython3",
   "version": "3.11.1"
  }
 },
 "nbformat": 4,
 "nbformat_minor": 5
}
